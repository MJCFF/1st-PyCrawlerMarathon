{
 "cells": [
  {
   "cell_type": "markdown",
   "metadata": {},
   "source": [
    "# PTT 網路爬蟲實作練習\n",
    "能夠利用 Request + BeatifulSour 撰寫爬蟲，並存放到合適的資料結構\n",
    "作業目標\n",
    "根據範例 ，完成以下問題：\n",
    "\n"
   ]
  },
  {
   "cell_type": "markdown",
   "metadata": {},
   "source": [
    "① 印出最新文章的「作者」「標題」「時間」"
   ]
  },
  {
   "cell_type": "code",
   "execution_count": 16,
   "metadata": {},
   "outputs": [
    {
     "name": "stdout",
     "output_type": "stream",
     "text": [
      "『 作者 』 : Wall62『標題 』 :   Re: [花邊] 字母哥把球鞋送給幸運小球迷   『時間 』 : Tue Dec 24 22:31:30 2019\n",
      "『 作者 』 : ChrisDavis『標題 』 :   [討論] 灰狼是不是still the same?   『時間 』 : Tue Dec 24 22:34:03 2019\n",
      "『 作者 』 : NSYSUheng『標題 』 :   [情報] Harden罰球命中數超越Shaquille O'Neal   『時間 』 : Tue Dec 24 23:14:19 2019\n",
      "『 作者 』 : kobe30418『標題 』 :   [討論] 選秀年的深度或是說大年怎麼看？   『時間 』 : Tue Dec 24 23:37:54 2019\n",
      "『 作者 』 : iam168888888『標題 』 :   [新聞] 馬刺狂轟145分 Popovich任內次高   『時間 』 : Tue Dec 24 23:39:15 2019\n",
      "『 作者 』 : Gotham『標題 』 :   [新聞] 3分球10投盡墨 里拉德：凡事總有第一次   『時間 』 : Tue Dec 24 23:59:38 2019\n",
      "『 作者 』 : ghost069『標題 』 :   [討論] 當初的雷霆三少誰的帶隊能力最好   『時間 』 : Wed Dec 25 00:44:42 2019\n",
      "『 作者 』 : currykukuo『標題 』 :   [花邊] LBJ和AD預計會出席聖誕大戰   『時間 』 : Wed Dec 25 02:44:34 2019\n",
      "『 作者 』 : jokername『標題 』 :   Re: [討論] 打nba是不是天生註定的？   『時間 』 : Wed Dec 25 02:47:18 2019\n",
      "『 作者 』 : Malpais『標題 』 :   [情報] Kyrie Irving 可能再延後2-3週才復出   『時間 』 : Wed Dec 25 04:15:05 2019\n",
      "『 作者 』 : currykukuo『標題 』 :   [情報] 季中錦標賽冠軍 可能有額外首輪選秀權   『時間 』 : Wed Dec 25 04:17:20 2019\n",
      "『 作者 』 : TheoEpstein『標題 』 :   Re: [討論] 選秀年的深度或是說大年怎麼看？   『時間 』 : Wed Dec 25 08:08:07 2019\n",
      "『 作者 』 : whj0530『標題 』 :   [情報] Love:得知Clarkson交易讓我坐到了地上，   『時間 』 : Wed Dec 25 08:57:05 2019\n",
      "『 作者 』 : nwd4e9cd『標題 』 :   [花邊] Justin Holiday賽前和自己女兒玩耍   『時間 』 : Wed Dec 25 09:59:59 2019\n",
      "『 作者 』 : Vedan『標題 』 :   [公告] 樂透取消及未來不再開啟樂透   『時間 』 : Mon Jun 24 15:08:02 2019\n",
      "『 作者 』 : qazwsx879345『標題 』 :   [公告] 版主上任相關事項    『時間 』 : Fri Oct 25 10:44:03 2019\n",
      "『 作者 』 : JerroLi『標題 』 :   [情報] SEASON Schedule 賽程 December 19–20   『時間 』 : Fri Nov 29 00:46:01 2019\n"
     ]
    }
   ],
   "source": [
    "'''\n",
    "Your Code\n",
    "'''\n",
    "import requests\n",
    "from bs4 import BeautifulSoup\n",
    "url = 'https://www.ptt.cc/bbs/NBA/index.html'\n",
    "r = requests.get(url)\n",
    "soup = BeautifulSoup(r.text , 'html5lib')\n",
    "for i in soup.find_all(class_= \"r-ent\"):\n",
    "    try:      \n",
    "        title = i.find_all(class_  = \"title\")[0].text.replace(\"\\n\",\" \").replace(\"\\t\",\"\")     \n",
    "        url = 'https://www.ptt.cc'+ i.find_all(class_ = 'title')[0].find_all('a')[0]['href']\n",
    "        r = requests.get(url)\n",
    "        soupp = BeautifulSoup(r.text , 'html5lib')\n",
    "        print(f'『 作者 』 : {i.find_all(class_ = \"author\")[0].text}『標題 』 : {title} 『時間 』 : {soupp.find_all(class_ = \"article-meta-value\")[3].text}')\n",
    "    except:\n",
    "        continue\n",
    "              "
   ]
  },
  {
   "cell_type": "markdown",
   "metadata": {},
   "source": [
    "② 印出第一頁所有文章的「作者」「標題」「時間」"
   ]
  },
  {
   "cell_type": "code",
   "execution_count": 17,
   "metadata": {},
   "outputs": [
    {
     "name": "stdout",
     "output_type": "stream",
     "text": [
      "『 Author 』 : nwd4e9cd 『 Title 』 : [花邊] Justin Holiday賽前和自己女兒玩耍 『Time 』 : Wed Dec 25 09:59:59 2019\n"
     ]
    }
   ],
   "source": [
    "i = soup.find_all(class_= \"r-ent\")[13]\n",
    "title = i.find_all(class_  = \"title\")[0].text.replace(\"\\n\",\"\").replace(\"\\t\",\"\")     \n",
    "url = 'https://www.ptt.cc'+ i.find_all(class_ = 'title')[0].find_all('a')[0]['href']\n",
    "r = requests.get(url)\n",
    "soupp = BeautifulSoup(r.text , 'html5lib')\n",
    "print(f'『 Author 』 : {i.find_all(class_ = \"author\")[0].text} 『 Title 』 : {title} 『Time 』 : {soupp.find_all(class_ = \"article-meta-value\")[3].text}')"
   ]
  },
  {
   "cell_type": "markdown",
   "metadata": {},
   "source": [
    "③ 試著爬爬看其他版的文章"
   ]
  },
  {
   "cell_type": "code",
   "execution_count": 18,
   "metadata": {},
   "outputs": [
    {
     "name": "stdout",
     "output_type": "stream",
     "text": [
      "『 作者 』 : newflag 『 標題 』 : [問卦]　海外代購到底賺什麼? 『時間 』 : Wed Dec 25 09:52:40 2019\n",
      "『 作者 』 : ybite 『 標題 』 : [新聞] 中火生煤超量 中市府3度開罰撤2許可證 『時間 』 : Wed Dec 25 09:53:57 2019\n",
      "『 作者 』 : wosopu 『 標題 』 : [問卦] 有沒有盤腿走路的掛 『時間 』 : Wed Dec 25 09:54:06 2019\n",
      "『 作者 』 : justice2008 『 標題 』 : [新聞] 被批干預司法 陳師孟諷：司法是黨國思想 『時間 』 : Wed Dec 25 09:54:37 2019\n",
      "『 作者 』 : whour 『 標題 』 : [新聞] 中火生煤使用超量 台中市府撤除2機組使用 『時間 』 : Wed Dec 25 09:55:29 2019\n",
      "『 作者 』 : Luckmeow 『 標題 』 : [新聞] 六都市長就任週年 柯文哲韓國瑜滿意度慘 『時間 』 : Wed Dec 25 09:55:51 2019\n",
      "『 作者 』 : liang691206 『 標題 』 : Re: [新聞] 柯文哲：庶民經濟破壞社會進步 台灣應產 『時間 』 : Wed Dec 25 09:57:19 2019\n",
      "『 作者 』 : ishowhand 『 標題 』 : [新聞] 韓國瑜道歉 罷韓四君子：明提罷免，現在 『時間 』 : Wed Dec 25 09:57:24 2019\n",
      "『 作者 』 : james7923 『 標題 』 : [新聞] 時力批鄭宏輝搞土地獲暴利 鄭:難道黃國昌 『時間 』 : Wed Dec 25 09:58:01 2019\n",
      "『 作者 』 : GivePower 『 標題 』 : [問卦] 該怎麼學會盤腿? 『時間 』 : Wed Dec 25 09:57:46 2019\n",
      "『 作者 』 : hamasakiayu 『 標題 』 : Re: [問卦] 為何臺灣不推行無假釋終身監禁制度？ 『時間 』 : Wed Dec 25 09:58:36 2019\n",
      "『 作者 』 : LAKobeBryant 『 標題 』 : [新聞] 庶民經濟破壞台灣進步 柯文哲：不服氣可 『時間 』 : Wed Dec 25 09:59:13 2019\n",
      "『 作者 』 : soulboy330 『 標題 』 : Re: [問卦] 寫一篇文章能賺多少錢 『時間 』 : Wed Dec 25 09:59:14 2019\n",
      "『 作者 』 : sandemo 『 標題 』 : [新聞] 退役空軍中校杜永心變共諜！發生台海戰爭 『時間 』 : Wed Dec 25 10:01:27 2019\n",
      "『 作者 』 : longkiss0618 『 標題 』 : [問卦] 奈米屌應徵台積電工程師有加分嗎? 『時間 』 : Wed Dec 25 10:02:10 2019\n",
      "『 作者 』 : arsonlolita 『 標題 』 : [公告] 八卦板板規(2019.08.21) 『時間 』 : Wed Aug 21 08:33:39 2019\n",
      "『 作者 』 : arsonlolita 『 標題 』 : [協尋] 行車記錄器 高雄區/鳳山區  『時間 』 : Thu Dec 19 16:09:15 2019\n",
      "『 作者 』 : arsonlolita 『 標題 』 : [協尋] 基隆市七堵區八德路段6號 車禍昏迷  『時間 』 : Tue Dec 24 13:59:43 2019\n",
      "『 作者 』 : xraven 『 標題 』 : [協尋] 友人妹妹失蹤 代po 『時間 』 : Fri Dec 20 01:01:05 2019\n",
      "『 作者 』 : Bignana 『 標題 』 : [公告] 一劍無悔，十二月置底閒聊文 『時間 』 : Mon Dec  2 23:13:15 2019\n"
     ]
    }
   ],
   "source": [
    "import requests\n",
    "from bs4 import BeautifulSoup\n",
    "url = 'https://www.ptt.cc/bbs/Gossiping/index.html'\n",
    "r = requests.get(url , cookies = {'over18':'1'})\n",
    "soup = BeautifulSoup(r.text , 'html5lib')\n",
    "for i in soup.find_all(class_= \"r-ent\"):\n",
    "    try:\n",
    "        \n",
    "        title = i.find_all(class_  = \"title\")[0].text.replace(\"\\n\",\"\").replace(\"\\t\",\"\")     \n",
    "        url = 'https://www.ptt.cc'+ i.find_all(class_ = 'title')[0].find_all('a')[0]['href']\n",
    "        r = requests.get(url , cookies = {'over18':'1'})\n",
    "        soupp = BeautifulSoup(r.text , 'html5lib')\n",
    "        print(f'『 作者 』 : {i.find_all(class_ = \"author\")[0].text} 『 標題 』 : {title} 『時間 』 : {soupp.find_all(class_ = \"article-meta-value\")[3].text}')\n",
    "    except:\n",
    "        continue"
   ]
  }
 ],
 "metadata": {
  "kernelspec": {
   "display_name": "Python 3",
   "language": "python",
   "name": "python3"
  },
  "language_info": {
   "codemirror_mode": {
    "name": "ipython",
    "version": 3
   },
   "file_extension": ".py",
   "mimetype": "text/x-python",
   "name": "python",
   "nbconvert_exporter": "python",
   "pygments_lexer": "ipython3",
   "version": "3.7.3"
  }
 },
 "nbformat": 4,
 "nbformat_minor": 2
}
