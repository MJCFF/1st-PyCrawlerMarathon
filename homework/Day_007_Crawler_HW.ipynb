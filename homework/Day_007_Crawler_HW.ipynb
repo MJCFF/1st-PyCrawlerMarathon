{
 "cells": [
  {
   "cell_type": "markdown",
   "metadata": {},
   "source": [
    "# HTTP 靜態網頁架構說明\n",
    "認識靜態網頁的溝通架構與運作原理\n",
    "HTML、CSS、JavaScript 在網頁中扮演的角色\n",
    "網頁中定位資料的方法\n",
    "作業目標\n",
    "（簡答題）請問目前提到的這種基於 HTTP 一來一回的網頁傳輸方式，有哪些缺點及問題？\n",
    "（簡答題）網頁中使用的 JavaScipt 程式語言，跟我們一般使用的 Python 在執行上有什麼不同。"
   ]
  },
  {
   "cell_type": "markdown",
   "metadata": {},
   "source": [
    "1.（簡答題）請問目前提到的這種基於 HTTP 一來一回的網頁傳輸方式，有哪些缺點及問題？\n",
    "\n",
    "\n",
    "Ans:由於必須等待雙方的請求與回應許可,影響到實際傳輸訊息的效率.\n"
   ]
  },
  {
   "cell_type": "markdown",
   "metadata": {},
   "source": [
    "2. （簡答題）網頁中使用的 JavaScipt 程式語言，跟我們一般使用的 Python 在執行上有什麼不同。\n",
    "\n",
    "Ans:\n",
    "\n",
    "題目中已指出JavaScipt適用於產品視覺開發項目,在載體上呈現所需的專業視覺效果(各家瀏覽器可支援解析出語法效果);\n",
    "\n",
    "Python語言則是被開發出應用於各軟體端資料應用之橋樑,舉例來說:抓取網頁資料,機器學習,資料庫管理等.....\n",
    "\n",
    "因此,上述兩種語言可開發應用的功能,可評估視為兩者之間的差異.\n",
    "\n",
    "\n",
    "\n"
   ]
  },
  {
   "cell_type": "code",
   "execution_count": null,
   "metadata": {},
   "outputs": [],
   "source": []
  },
  {
   "cell_type": "code",
   "execution_count": null,
   "metadata": {},
   "outputs": [],
   "source": []
  }
 ],
 "metadata": {
  "kernelspec": {
   "display_name": "Python 3",
   "language": "python",
   "name": "python3"
  },
  "language_info": {
   "codemirror_mode": {
    "name": "ipython",
    "version": 3
   },
   "file_extension": ".py",
   "mimetype": "text/x-python",
   "name": "python",
   "nbconvert_exporter": "python",
   "pygments_lexer": "ipython3",
   "version": "3.7.3"
  }
 },
 "nbformat": 4,
 "nbformat_minor": 2
}
